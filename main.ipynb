{
 "cells": [
  {
   "cell_type": "code",
   "execution_count": 1,
   "metadata": {
    "collapsed": true,
    "jupyter": {
     "outputs_hidden": true
    }
   },
   "outputs": [
    {
     "name": "stdout",
     "output_type": "stream",
     "text": [
      "Requirement already satisfied: sqlalchemy in /usr/local/lib/python3.6/dist-packages (from -r requirements.txt (line 1)) (1.3.16)\n",
      "Collecting mysqlclient\n",
      "  Using cached mysqlclient-1.4.6.tar.gz (85 kB)\n",
      "Collecting pymysql\n",
      "  Downloading PyMySQL-0.9.3-py2.py3-none-any.whl (47 kB)\n",
      "\u001b[K     |████████████████████████████████| 47 kB 568 kB/s eta 0:00:01\n",
      "\u001b[?25hRequirement already satisfied: certifi in /usr/local/lib/python3.6/dist-packages (from -r requirements.txt (line 6)) (2019.11.28)\n",
      "Requirement already satisfied: urllib3 in /usr/local/lib/python3.6/dist-packages (from -r requirements.txt (line 7)) (1.25.8)\n",
      "Collecting bs4\n",
      "  Downloading bs4-0.0.1.tar.gz (1.1 kB)\n",
      "Requirement already satisfied: numpy in /usr/local/lib/python3.6/dist-packages (from -r requirements.txt (line 10)) (1.18.1)\n",
      "Collecting flask\n",
      "  Downloading Flask-1.1.2-py2.py3-none-any.whl (94 kB)\n",
      "\u001b[K     |████████████████████████████████| 94 kB 462 kB/s eta 0:00:011\n",
      "\u001b[?25hRequirement already satisfied: nbconvert in /usr/local/lib/python3.6/dist-packages (from -r requirements.txt (line 12)) (5.6.1)\n",
      "Requirement already satisfied: pandas in /usr/local/lib/python3.6/dist-packages (from -r requirements.txt (line 13)) (1.0.1)\n",
      "Requirement already satisfied: xlsxwriter in /usr/local/lib/python3.6/dist-packages (from -r requirements.txt (line 14)) (1.2.7)\n",
      "Collecting beautifulsoup4\n",
      "  Downloading beautifulsoup4-4.9.0-py3-none-any.whl (109 kB)\n",
      "\u001b[K     |████████████████████████████████| 109 kB 6.9 MB/s eta 0:00:01\n",
      "\u001b[?25hRequirement already satisfied: Werkzeug>=0.15 in /usr/local/lib/python3.6/dist-packages (from flask->-r requirements.txt (line 11)) (1.0.1)\n",
      "Collecting click>=5.1\n",
      "  Downloading click-7.1.1-py2.py3-none-any.whl (82 kB)\n",
      "\u001b[K     |████████████████████████████████| 82 kB 151 kB/s  eta 0:00:01\n",
      "\u001b[?25hCollecting itsdangerous>=0.24\n",
      "  Downloading itsdangerous-1.1.0-py2.py3-none-any.whl (16 kB)\n",
      "Requirement already satisfied: Jinja2>=2.10.1 in /usr/local/lib/python3.6/dist-packages (from flask->-r requirements.txt (line 11)) (2.11.1)\n",
      "Requirement already satisfied: defusedxml in /usr/local/lib/python3.6/dist-packages (from nbconvert->-r requirements.txt (line 12)) (0.6.0)\n",
      "Requirement already satisfied: entrypoints>=0.2.2 in /usr/local/lib/python3.6/dist-packages (from nbconvert->-r requirements.txt (line 12)) (0.3)\n",
      "Requirement already satisfied: mistune<2,>=0.8.1 in /usr/local/lib/python3.6/dist-packages (from nbconvert->-r requirements.txt (line 12)) (0.8.4)\n",
      "Requirement already satisfied: jupyter-core in /usr/local/lib/python3.6/dist-packages (from nbconvert->-r requirements.txt (line 12)) (4.6.2)\n",
      "Requirement already satisfied: pygments in /usr/local/lib/python3.6/dist-packages (from nbconvert->-r requirements.txt (line 12)) (2.5.2)\n",
      "Requirement already satisfied: pandocfilters>=1.4.1 in /usr/local/lib/python3.6/dist-packages (from nbconvert->-r requirements.txt (line 12)) (1.4.2)\n",
      "Requirement already satisfied: testpath in /usr/local/lib/python3.6/dist-packages (from nbconvert->-r requirements.txt (line 12)) (0.4.4)\n",
      "Requirement already satisfied: traitlets>=4.2 in /usr/local/lib/python3.6/dist-packages (from nbconvert->-r requirements.txt (line 12)) (4.3.3)\n",
      "Requirement already satisfied: bleach in /usr/local/lib/python3.6/dist-packages (from nbconvert->-r requirements.txt (line 12)) (3.1.0)\n",
      "Requirement already satisfied: nbformat>=4.4 in /usr/local/lib/python3.6/dist-packages (from nbconvert->-r requirements.txt (line 12)) (5.0.4)\n",
      "Requirement already satisfied: pytz>=2017.2 in /usr/local/lib/python3.6/dist-packages (from pandas->-r requirements.txt (line 13)) (2019.3)\n",
      "Requirement already satisfied: python-dateutil>=2.6.1 in /usr/local/lib/python3.6/dist-packages (from pandas->-r requirements.txt (line 13)) (2.8.1)\n",
      "Collecting soupsieve>1.2\n",
      "  Downloading soupsieve-2.0-py2.py3-none-any.whl (32 kB)\n",
      "Requirement already satisfied: MarkupSafe>=0.23 in /usr/local/lib/python3.6/dist-packages (from Jinja2>=2.10.1->flask->-r requirements.txt (line 11)) (1.1.1)\n",
      "Requirement already satisfied: decorator in /usr/local/lib/python3.6/dist-packages (from traitlets>=4.2->nbconvert->-r requirements.txt (line 12)) (4.4.1)\n",
      "Requirement already satisfied: six in /usr/local/lib/python3.6/dist-packages (from traitlets>=4.2->nbconvert->-r requirements.txt (line 12)) (1.14.0)\n",
      "Requirement already satisfied: ipython-genutils in /usr/local/lib/python3.6/dist-packages (from traitlets>=4.2->nbconvert->-r requirements.txt (line 12)) (0.2.0)\n",
      "Requirement already satisfied: webencodings in /usr/local/lib/python3.6/dist-packages (from bleach->nbconvert->-r requirements.txt (line 12)) (0.5.1)\n",
      "Requirement already satisfied: jsonschema!=2.5.0,>=2.4 in /usr/local/lib/python3.6/dist-packages (from nbformat>=4.4->nbconvert->-r requirements.txt (line 12)) (3.2.0)\n",
      "Requirement already satisfied: attrs>=17.4.0 in /usr/local/lib/python3.6/dist-packages (from jsonschema!=2.5.0,>=2.4->nbformat>=4.4->nbconvert->-r requirements.txt (line 12)) (19.3.0)\n",
      "Requirement already satisfied: setuptools in /usr/lib/python3/dist-packages (from jsonschema!=2.5.0,>=2.4->nbformat>=4.4->nbconvert->-r requirements.txt (line 12)) (39.0.1)\n",
      "Requirement already satisfied: importlib-metadata; python_version < \"3.8\" in /usr/local/lib/python3.6/dist-packages (from jsonschema!=2.5.0,>=2.4->nbformat>=4.4->nbconvert->-r requirements.txt (line 12)) (1.5.0)\n",
      "Requirement already satisfied: pyrsistent>=0.14.0 in /usr/local/lib/python3.6/dist-packages (from jsonschema!=2.5.0,>=2.4->nbformat>=4.4->nbconvert->-r requirements.txt (line 12)) (0.15.7)\n",
      "Requirement already satisfied: zipp>=0.5 in /usr/local/lib/python3.6/dist-packages (from importlib-metadata; python_version < \"3.8\"->jsonschema!=2.5.0,>=2.4->nbformat>=4.4->nbconvert->-r requirements.txt (line 12)) (2.2.0)\n",
      "Building wheels for collected packages: mysqlclient, bs4\n",
      "  Building wheel for mysqlclient (setup.py) ... \u001b[?25ldone\n",
      "\u001b[?25h  Created wheel for mysqlclient: filename=mysqlclient-1.4.6-cp36-cp36m-linux_x86_64.whl size=93150 sha256=305a3ee0a1a9c7212ca24df7fd022f4e392e8a291efc5beff2b431aa96506d68\n",
      "  Stored in directory: /root/.cache/pip/wheels/c6/8c/80/527c233e7cb169f828b7168ebeab0fc5206d09b0fa133472fb\n",
      "  Building wheel for bs4 (setup.py) ... \u001b[?25ldone\n",
      "\u001b[?25h  Created wheel for bs4: filename=bs4-0.0.1-py3-none-any.whl size=2245 sha256=7a16b849726da845a2564fefa943482565489a4f92adba6654310fe257537fe7\n",
      "  Stored in directory: /root/.cache/pip/wheels/19/f5/6d/a97dd4f22376d4472d5f4c76c7646876052ff3166b3cf71050\n",
      "Successfully built mysqlclient bs4\n",
      "Installing collected packages: mysqlclient, pymysql, soupsieve, beautifulsoup4, bs4, click, itsdangerous, flask\n",
      "Successfully installed beautifulsoup4-4.9.0 bs4-0.0.1 click-7.1.1 flask-1.1.2 itsdangerous-1.1.0 mysqlclient-1.4.6 pymysql-0.9.3 soupsieve-2.0\n"
     ]
    }
   ],
   "source": [
    "#!sudo apt-get install python-dev #default-libmysqlclient-dev\n",
    "!sudo pip install -r requirements.txt\n",
    "#!python main.py"
   ]
  },
  {
   "cell_type": "code",
   "execution_count": 1,
   "metadata": {
    "collapsed": true,
    "jupyter": {
     "outputs_hidden": true
    }
   },
   "outputs": [
    {
     "name": "stdout",
     "output_type": "stream",
     "text": [
      "2020-03-27 20:52:00 [2, 4, 5, 8, 10, 17, 19, 22, 38, 41, 50, 51, 55, 57, 60, 61, 70, 73, 75, 37] bonus 37\n",
      "2020-03-27 20:56:00 [3, 18, 20, 21, 24, 29, 32, 37, 41, 46, 47, 54, 55, 61, 63, 66, 69, 72, 80, 57] bonus 57\n",
      "2020-03-27 21:00:00 [3, 18, 24, 28, 30, 33, 34, 37, 38, 46, 50, 51, 55, 57, 62, 64, 70, 72, 77, 56] bonus 56\n",
      "2020-03-27 21:04:00 [8, 9, 14, 18, 20, 21, 25, 29, 34, 36, 46, 52, 61, 63, 68, 69, 71, 73, 76, 2] bonus 2\n",
      "2020-03-27 21:08:00 [1, 9, 10, 11, 17, 24, 28, 30, 32, 36, 42, 44, 53, 55, 59, 66, 70, 73, 74, 46] bonus 46\n",
      "2020-03-27 21:12:00 [2, 5, 7, 13, 17, 21, 24, 28, 37, 39, 46, 47, 52, 56, 58, 70, 71, 75, 80, 36] bonus 36\n",
      "2020-03-27 21:16:00 [3, 4, 6, 7, 10, 14, 15, 16, 27, 29, 30, 42, 44, 49, 53, 55, 60, 65, 73, 31] bonus 31\n",
      "2020-03-27 21:20:00 [6, 8, 16, 17, 21, 26, 40, 43, 48, 49, 52, 53, 56, 65, 67, 68, 69, 70, 76, 44] bonus 44\n",
      "2020-03-27 21:24:00 [1, 2, 7, 9, 11, 13, 16, 18, 29, 33, 39, 41, 44, 53, 59, 60, 67, 68, 70, 50] bonus 50\n",
      "2020-03-27 21:28:00 [4, 5, 11, 14, 16, 18, 27, 33, 36, 37, 45, 51, 52, 53, 55, 58, 69, 76, 80, 28] bonus 28\n",
      "2020-03-27 21:32:00 [6, 9, 16, 19, 23, 28, 40, 41, 43, 50, 53, 57, 59, 61, 63, 64, 68, 78, 79, 70] bonus 70\n",
      "2020-03-27 21:36:00 [3, 12, 16, 22, 37, 41, 44, 45, 46, 48, 49, 52, 58, 59, 67, 69, 72, 73, 74, 75] bonus 75\n",
      "2020-03-27 21:40:00 [4, 9, 10, 17, 24, 25, 26, 33, 35, 41, 48, 51, 54, 56, 61, 64, 65, 68, 69, 19] bonus 19\n",
      "2020-03-27 21:44:00 [10, 13, 16, 17, 19, 31, 36, 38, 40, 43, 45, 46, 47, 49, 53, 64, 66, 75, 79, 70] bonus 70\n",
      "2020-03-27 21:48:00 [1, 2, 4, 5, 8, 11, 31, 34, 39, 45, 49, 50, 51, 58, 61, 68, 71, 74, 80, 76] bonus 76\n",
      "2020-03-27 21:52:00 [1, 4, 6, 12, 17, 29, 30, 36, 37, 44, 45, 50, 52, 54, 55, 57, 71, 74, 76, 72] bonus 72\n",
      "2020-03-27 21:56:00 [2, 8, 15, 17, 32, 34, 41, 42, 43, 47, 52, 59, 68, 70, 71, 72, 73, 76, 80, 36] bonus 36\n",
      "2020-03-27 22:00:00 [6, 12, 15, 18, 19, 24, 25, 29, 30, 34, 35, 44, 52, 53, 67, 72, 75, 76, 77, 63] bonus 63\n",
      "^C\n",
      "Traceback (most recent call last):\n",
      "  File \"main.py\", line 21, in <module>\n",
      "    h.sync()\n",
      "  File \"/home/work/PyLotto/hotspot/__init__.py\", line 161, in sync\n",
      "    f.sync_results();        \n",
      "  File \"/home/work/PyLotto/hotspot/fetcher/__init__.py\", line 259, in sync_results\n",
      "    new_res = self.fetch_result(next_draw_id)\n",
      "  File \"/home/work/PyLotto/hotspot/fetcher/__init__.py\", line 78, in fetch_result\n",
      "    doc = BeautifulSoup(response.data, 'html.parser');\n",
      "  File \"/usr/local/lib/python3.6/dist-packages/bs4/__init__.py\", line 321, in __init__\n",
      "    markup, from_encoding, exclude_encodings=exclude_encodings)):\n",
      "  File \"/usr/local/lib/python3.6/dist-packages/bs4/builder/_htmlparser.py\", line 326, in prepare_markup\n",
      "    exclude_encodings=exclude_encodings)\n",
      "  File \"/usr/local/lib/python3.6/dist-packages/bs4/dammit.py\", line 445, in __init__\n",
      "    for encoding in self.detector.encodings:\n",
      "  File \"/usr/local/lib/python3.6/dist-packages/bs4/dammit.py\", line 309, in encodings\n",
      "    self.chardet_encoding = chardet_dammit(self.markup)\n",
      "  File \"/usr/local/lib/python3.6/dist-packages/bs4/dammit.py\", line 37, in chardet_dammit\n",
      "    return chardet.detect(s)['encoding']\n",
      "  File \"/usr/local/lib/python3.6/dist-packages/chardet/__init__.py\", line 38, in detect\n",
      "    detector.feed(byte_str)\n",
      "  File \"/usr/local/lib/python3.6/dist-packages/chardet/universaldetector.py\", line 211, in feed\n",
      "    if prober.feed(byte_str) == ProbingState.FOUND_IT:\n",
      "  File \"/usr/local/lib/python3.6/dist-packages/chardet/charsetgroupprober.py\", line 71, in feed\n",
      "    state = prober.feed(byte_str)\n",
      "  File \"/usr/local/lib/python3.6/dist-packages/chardet/sbcharsetprober.py\", line 79, in feed\n",
      "    byte_str = self.filter_international_words(byte_str)\n",
      "  File \"/usr/local/lib/python3.6/dist-packages/chardet/charsetprober.py\", line 87, in filter_international_words\n",
      "    buf)\n",
      "  File \"/usr/lib/python3.6/re.py\", line 222, in findall\n",
      "    return _compile(pattern, flags).findall(string)\n",
      "KeyboardInterrupt\n"
     ]
    }
   ],
   "source": [
    "!python main.py"
   ]
  },
  {
   "cell_type": "code",
   "execution_count": null,
   "metadata": {},
   "outputs": [],
   "source": [
    "from ipynb.fs.full.hotspot import HotSpot\n",
    "\n",
    "h = HotSpot();\n",
    "h.get_last_draw_"
   ]
  }
 ],
 "metadata": {
  "kernelspec": {
   "display_name": "Python 3",
   "language": "python",
   "name": "python3"
  },
  "language_info": {
   "codemirror_mode": {
    "name": "ipython",
    "version": 3
   },
   "file_extension": ".py",
   "mimetype": "text/x-python",
   "name": "python",
   "nbconvert_exporter": "python",
   "pygments_lexer": "ipython3",
   "version": "3.6.9"
  }
 },
 "nbformat": 4,
 "nbformat_minor": 4
}
