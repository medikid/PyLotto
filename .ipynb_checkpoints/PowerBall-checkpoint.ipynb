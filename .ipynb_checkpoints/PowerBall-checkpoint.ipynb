{
 "cells": [
  {
   "cell_type": "code",
   "execution_count": 1,
   "metadata": {},
   "outputs": [
    {
     "ename": "IndentationError",
     "evalue": "expected an indented block (__init__.py, line 104)",
     "output_type": "error",
     "traceback": [
      "Traceback \u001b[0;36m(most recent call last)\u001b[0m:\n",
      "  File \u001b[1;32m\"/usr/local/lib/python3.6/dist-packages/IPython/core/interactiveshell.py\"\u001b[0m, line \u001b[1;32m3331\u001b[0m, in \u001b[1;35mrun_code\u001b[0m\n    exec(code_obj, self.user_global_ns, self.user_ns)\n",
      "  File \u001b[1;32m\"<ipython-input-1-516be8f6a02e>\"\u001b[0m, line \u001b[1;32m1\u001b[0m, in \u001b[1;35m<module>\u001b[0m\n    from powerball.models import iresult, idraw\n",
      "\u001b[0;36m  File \u001b[0;32m\"/home/work/PyLotto/powerball/__init__.py\"\u001b[0;36m, line \u001b[0;32m3\u001b[0;36m, in \u001b[0;35m<module>\u001b[0;36m\u001b[0m\n\u001b[0;31m    from powerball.fetcher import Fetcher\u001b[0m\n",
      "\u001b[0;36m  File \u001b[0;32m\"/home/work/PyLotto/powerball/fetcher/__init__.py\"\u001b[0;36m, line \u001b[0;32m104\u001b[0m\n\u001b[0;31m    str_url = \"https://www.lotteryusa.com/mega-millions/year\"\u001b[0m\n\u001b[0m          ^\u001b[0m\n\u001b[0;31mIndentationError\u001b[0m\u001b[0;31m:\u001b[0m expected an indented block\n"
     ]
    }
   ],
   "source": [
    "from powerball.models import iresult, idraw\n",
    "from powerball.fetcher import Fetcher\n",
    "\n",
    "class PowerBall:\n",
    "    DF_RESULTS = {}\n",
    "    DF_RESULTS = {}\n",
    "    \n",
    "    def __init__(self):\n",
    "        pass;\n",
    "    \n",
    "    def fetch_online_results(self):\n",
    "        f = Fetcher();\n",
    "        df_res = f.fetch_results();\n",
    "        \n",
    "        return df_res;\n",
    "        \n",
    "    def derive_draws(self):\n",
    "        results = iresult.iResult().db.session.query(iresult.iResult).all();\n",
    "        for result in results:\n",
    "            #print(result.draw_id, result.r);\n",
    "            dr = idraw.iDraw(result.draw_id, result.r);\n",
    "            #dr.derive();\n",
    "            #print(dr.toString())\n",
    "            dr.db_save()\n",
    "            \n",
    "    def derive_draws_c(self):\n",
    "        results = iresult.iResult().db.session.query(iresult.iResult).all();\n",
    "        for result in results:\n",
    "            dr = idraw_c.iDrawC(result.draw_id, result.r);\n",
    "            dr.db_save()\n",
    "            \n",
    "    def get_draws_df(self):\n",
    "        return idraw.iDraw().get_dataframe();\n",
    "    \n",
    "    def get_results_df(self):\n",
    "        return iresult.iResult().get_dataframe();\n",
    "    \n",
    "    def get_master_df(self):\n",
    "        pass;"
   ]
  },
  {
   "cell_type": "code",
   "execution_count": null,
   "metadata": {},
   "outputs": [],
   "source": [
    "pb = PowerBall();\n",
    "res = pb.fetch_online_resuts();\n",
    "print(res)"
   ]
  }
 ],
 "metadata": {
  "kernelspec": {
   "display_name": "Python 3",
   "language": "python",
   "name": "python3"
  },
  "language_info": {
   "codemirror_mode": {
    "name": "ipython",
    "version": 3
   },
   "file_extension": ".py",
   "mimetype": "text/x-python",
   "name": "python",
   "nbconvert_exporter": "python",
   "pygments_lexer": "ipython3",
   "version": "3.6.9"
  }
 },
 "nbformat": 4,
 "nbformat_minor": 4
}
